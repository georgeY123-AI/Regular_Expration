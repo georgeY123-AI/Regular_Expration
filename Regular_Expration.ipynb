{
 "cells": [
  {
   "cell_type": "code",
   "execution_count": 6,
   "metadata": {},
   "outputs": [
    {
     "name": "stdout",
     "output_type": "stream",
     "text": [
      "Excel sheet created at: sample_unordered_data.xlsx\n"
     ]
    }
   ],
   "source": [
    "import pandas as pd\n",
    "import random\n",
    "import faker\n",
    "\n",
    "# Initialize Faker for generating random data\n",
    "fake = faker.Faker()\n",
    "\n",
    "# Generate random data with some invalid entries\n",
    "data = [\n",
    "    [fake.email(), fake.name(), fake.phone_number()],\n",
    "    [fake.email(), fake.name(), fake.phone_number()],\n",
    "    [fake.email(), fake.name(), fake.phone_number()],\n",
    "    [fake.email(), fake.name(), fake.phone_number()],\n",
    "    ['invalid_email', 'John Doe', '+1234567890'],  # Invalid email\n",
    "    ['jane.smith@example.com', 'Jane Smith', 'not_a_phone_number'],  # Invalid phone\n",
    "    ['alice.johnson@example.com', 'Alice Johnson', '+1123456789'],\n",
    "    ['bob.brown@example.com', 'Bob Brown', '+1212345678'],\n",
    "    ['carol.white@example.com', 'Carol White', '+1098765432'],\n",
    "    ['wrong_email_format', 'Carol White', '+1098765432'],  # Invalid email\n",
    "]\n",
    "\n",
    "# Create a DataFrame\n",
    "df = pd.DataFrame(data, columns=['Column1', 'Column2', 'Column3'])\n",
    "\n",
    "# Write the DataFrame to an Excel file\n",
    "file_path = 'sample_unordered_data.xlsx'\n",
    "df.to_excel(file_path, index=False)\n",
    "\n",
    "print(f\"Excel sheet created at: {file_path}\")\n"
   ]
  },
  {
   "cell_type": "code",
   "execution_count": 7,
   "metadata": {},
   "outputs": [
    {
     "name": "stdout",
     "output_type": "stream",
     "text": [
      "Valid Names: ['Sally Mosley', 'Alice Johnson', 'Bob Brown', 'Carol White']\n",
      "Valid Emails: ['carol.white@example.com', 'alice.johnson@example.com', 'bob.brown@example.com', 'csmith@example.com']\n",
      "Valid Phone Numbers: ['001-950-804-2214', '+1123456789', '+1098765432', '+1212345678']\n",
      "Extracted valid data saved to: extracted_valid_data.xlsx\n"
     ]
    }
   ],
   "source": [
    "import pandas as pd\n",
    "import re\n",
    "\n",
    "# Read the Excel file\n",
    "file_path = 'sample_unordered_data.xlsx'\n",
    "df = pd.read_excel(file_path)\n",
    "\n",
    "# Initialize lists for valid data\n",
    "names = []\n",
    "emails = []\n",
    "phone_numbers = []\n",
    "\n",
    "# Regular expressions for email, phone numbers, and names\n",
    "email_regex = re.compile(r'[a-zA-Z0-9._%+-]+@[a-zA-Z0-9.-]+\\.[a-zA-Z]{2,}')\n",
    "# More strict phone number pattern, focusing on digits and common delimiters\n",
    "phone_regex = re.compile(r'^\\+?\\d{1,4}[-.\\s]?\\(?\\d{1,4}\\)?[-.\\s]?\\d{1,4}[-.\\s]?\\d{1,9}$')\n",
    "name_regex = re.compile(r'^[A-Za-z\\s]+$')\n",
    "\n",
    "# Function to validate phone number format\n",
    "def is_valid_phone_number(phone):\n",
    "    if phone_regex.match(phone):\n",
    "        # Further validation to exclude numbers with extensions or invalid formats\n",
    "        phone = re.sub(r'[^\\d]', '', phone)  # Remove all non-digit characters\n",
    "        return len(phone) >= 10 and len(phone) <= 15  # Adjust based on valid length ranges\n",
    "    return False\n",
    "\n",
    "# Function to identify and extract valid data\n",
    "def extract_valid_data(row):\n",
    "    email, phone, name = None, None, None\n",
    "    for cell in row:\n",
    "        if isinstance(cell, str):\n",
    "            cell = cell.strip()\n",
    "            if re.match(email_regex, cell):\n",
    "                email = cell\n",
    "            elif is_valid_phone_number(cell):\n",
    "                phone = cell\n",
    "            elif re.match(name_regex, cell):\n",
    "                name = cell\n",
    "    if email and phone and name:\n",
    "        emails.append(email)\n",
    "        phone_numbers.append(phone)\n",
    "        names.append(name)\n",
    "\n",
    "# Loop through the DataFrame rows\n",
    "for _, row in df.iterrows():\n",
    "    extract_valid_data(row)\n",
    "\n",
    "# Remove duplicates\n",
    "names = list(set(names))\n",
    "emails = list(set(emails))\n",
    "phone_numbers = list(set(phone_numbers))\n",
    "\n",
    "# Output valid lists\n",
    "print(\"Valid Names:\", names)\n",
    "print(\"Valid Emails:\", emails)\n",
    "print(\"Valid Phone Numbers:\", phone_numbers)\n",
    "\n",
    "# Create a DataFrame to save the valid extracted data\n",
    "max_len = max(len(names), len(emails), len(phone_numbers))\n",
    "output_df = pd.DataFrame({\n",
    "    'Names': names + [''] * (max_len - len(names)),\n",
    "    'Emails': emails + [''] * (max_len - len(emails)),\n",
    "    'Phone Numbers': phone_numbers + [''] * (max_len - len(phone_numbers))\n",
    "})\n",
    "\n",
    "# Save the DataFrame to an Excel file\n",
    "output_file_path = 'extracted_valid_data.xlsx'\n",
    "output_df.to_excel(output_file_path, index=False)\n",
    "\n",
    "print(f\"Extracted valid data saved to: {output_file_path}\")"
   ]
  },
  {
   "cell_type": "code",
   "execution_count": null,
   "metadata": {},
   "outputs": [],
   "source": []
  }
 ],
 "metadata": {
  "kernelspec": {
   "display_name": "Python 3 (ipykernel)",
   "language": "python",
   "name": "python3"
  },
  "language_info": {
   "codemirror_mode": {
    "name": "ipython",
    "version": 3
   },
   "file_extension": ".py",
   "mimetype": "text/x-python",
   "name": "python",
   "nbconvert_exporter": "python",
   "pygments_lexer": "ipython3",
   "version": "3.11.5"
  }
 },
 "nbformat": 4,
 "nbformat_minor": 4
}
